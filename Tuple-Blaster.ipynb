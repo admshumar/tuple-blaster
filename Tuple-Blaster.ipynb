{
 "cells": [
  {
   "cell_type": "markdown",
   "metadata": {},
   "source": [
    "#### Tuple-Blaster: gets a list of connected tuples from an adjacency matrix."
   ]
  },
  {
   "cell_type": "code",
   "execution_count": 22,
   "metadata": {},
   "outputs": [
    {
     "name": "stdout",
     "output_type": "stream",
     "text": [
      "['A_C_D', 'A_C_G', 'A_C_H', 'A_C_I', 'A_D_E', 'A_D_I', 'A_D_J', 'B_C_G', 'B_D_E', 'B_E_F', 'B_E_G', 'B_E_J', 'B_F_G', 'B_F_H', 'B_F_J', 'B_G_H', 'C_D_I', 'C_F_G', 'C_F_H', 'C_G_H', 'C_G_I', 'C_H_I', 'C_I_J', 'D_E_F', 'D_E_I', 'D_E_J', 'D_F_J', 'D_H_I', 'D_I_J', 'E_F_G', 'E_F_H', 'E_F_J', 'E_I_J', 'F_G_H', 'F_G_J', 'F_H_I', 'F_H_J', 'F_I_J', 'G_H_I', 'H_I_J']\n",
      "\n",
      "Finished in 0.0010900497436523438 seconds.\n"
     ]
    }
   ],
   "source": [
    "from itertools import permutations\n",
    "import string\n",
    "import time\n",
    "\n",
    "\"\"\"\n",
    "A TupleBlaster is defined by a list of integers that represents a set of localities\n",
    "and an adjacency matrix that indicates which of these localities are adjacent to each\n",
    "other. The class locates tuples of any length for which successive entries in the tuple\n",
    "are adjacent localities.\n",
    "\"\"\"\n",
    "class TupleBlaster:\n",
    "    def __init__(self, localities, adjacency_matrix):\n",
    "        self.locality_list = localities\n",
    "        self.adjacency_matrix = adjacency_matrix\n",
    "\n",
    "    def get_tuple_connectivity(self, locality_tuple):\n",
    "        count = 1\n",
    "        for i in range(len(locality_tuple) - 1):\n",
    "            adjacency_number = self.adjacency_matrix[locality_tuple[i]][locality_tuple[i + 1]]\n",
    "            count = count * adjacency_number\n",
    "            if count == 0:\n",
    "                break\n",
    "        return count\n",
    "\n",
    "    def get_locality_tuples(self, n):\n",
    "        return list(permutations(self.locality_list, n))\n",
    "\n",
    "    def get_connectivity_dictionary(self, permutation_list):\n",
    "        dictionary = {}\n",
    "        for locality_tuple in permutation_list:\n",
    "            adjacency_number = self.get_tuple_connectivity(locality_tuple)\n",
    "            dictionary[locality_tuple] = adjacency_number\n",
    "        return dictionary\n",
    "\n",
    "    def get_connected_tuples(self, n):\n",
    "        permutation_list = self.get_locality_tuples(n)\n",
    "        dictionary = self.get_connectivity_dictionary(permutation_list)\n",
    "        connected_tuple_set = {key for key, value in dictionary.items() if value == 1}\n",
    "        sorted_connected_tuple_list = []\n",
    "        for connected_tuple in connected_tuple_set:\n",
    "            connected_tuple = list(connected_tuple)\n",
    "            connected_tuple.sort()\n",
    "            sorted_connected_tuple_list.append(connected_tuple)\n",
    "        connected_tuple_set = {tuple(l) for l in sorted_connected_tuple_list}\n",
    "        return connected_tuple_set\n",
    "\n",
    "    def print_connected_tuples(self, n):\n",
    "        t0 = time.time()\n",
    "        s = self.get_connected_tuples(n)\n",
    "        s = list(s)\n",
    "        s.sort()\n",
    "        lst = [\"_\".join(tuple(string.ascii_uppercase[n] for n in t)) for t in s]\n",
    "        print(lst)\n",
    "        t1 = time.time()\n",
    "        t = t1 - t0\n",
    "        print(\"\\nFinished in\", t, \"seconds.\")\n",
    "\n",
    "\n",
    "arr = list(range(10))\n",
    "\n",
    "matrix = [[1, 0, 1, 1, 0, 0, 0, 0, 0, 0],\n",
    "          [0, 1, 0, 0, 1, 1, 1, 0, 0, 0],\n",
    "          [1, 0, 1, 0, 0, 0, 1, 1, 1, 0],\n",
    "          [1, 0, 0, 1, 1, 0, 0, 0, 1, 1],\n",
    "          [0, 1, 0, 1, 1, 1, 0, 0, 0, 1],\n",
    "          [0, 1, 0, 0, 1, 1, 1, 1, 0, 1],\n",
    "          [0, 1, 1, 0, 0, 1, 1, 1, 0, 0],\n",
    "          [0, 0, 1, 0, 0, 1, 1, 1, 1, 0],\n",
    "          [0, 0, 1, 1, 0, 0, 0, 1, 1, 1],\n",
    "          [0, 0, 0, 1, 1, 1, 0, 0, 1, 1]]\n",
    "\n",
    "blaster = TupleBlaster(arr, matrix)\n",
    "\n",
    "blaster.print_connected_tuples(3)"
   ]
  }
 ],
 "metadata": {
  "kernelspec": {
   "display_name": "Python 3",
   "language": "python",
   "name": "python3"
  },
  "language_info": {
   "codemirror_mode": {
    "name": "ipython",
    "version": 3
   },
   "file_extension": ".py",
   "mimetype": "text/x-python",
   "name": "python",
   "nbconvert_exporter": "python",
   "pygments_lexer": "ipython3",
   "version": "3.6.8"
  }
 },
 "nbformat": 4,
 "nbformat_minor": 2
}
